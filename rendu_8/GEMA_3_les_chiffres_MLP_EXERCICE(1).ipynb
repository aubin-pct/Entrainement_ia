{
 "cells": [
  {
   "cell_type": "code",
   "execution_count": 1,
   "metadata": {
    "collapsed": true,
    "id": "XktU3TQurd1y"
   },
   "outputs": [],
   "source": [
    "from typing import Any\n",
    "import numpy as np\n",
    "import torch\n",
    "import torchvision"
   ]
  },
  {
   "cell_type": "code",
   "execution_count": 2,
   "metadata": {
    "id": "gnHW2v3Vrd13",
    "pycharm": {
     "name": "#%%\n"
    }
   },
   "outputs": [],
   "source": [
    "# Chargement des données\n",
    "train = torchvision.datasets.MNIST('mnist_dataset', train=True, download=True,\n",
    "                             transform=torchvision.transforms.ToTensor())\n",
    "test = torchvision.datasets.MNIST('mnist_dataset', train=False, download=True,\n",
    "                             transform=torchvision.transforms.ToTensor())"
   ]
  },
  {
   "cell_type": "code",
   "execution_count": 3,
   "metadata": {
    "id": "kmfld76mrd15",
    "pycharm": {
     "name": "#%%\n"
    }
   },
   "outputs": [
    {
     "name": "stdout",
     "output_type": "stream",
     "text": [
      "Shape of the data torch.Size([60000, 28, 28]), the first dimension is the number of examples\n",
      "Shape of the targets torch.Size([60000])\n"
     ]
    }
   ],
   "source": [
    "print(f\"Shape of the data {train.data.size()}, the first dimension is the number of examples\")\n",
    "print(f\"Shape of the targets {train.targets.size()}\")"
   ]
  },
  {
   "cell_type": "code",
   "execution_count": 4,
   "metadata": {
    "id": "iAT1jGPW5L94"
   },
   "outputs": [],
   "source": [
    "# TODO commenter chacune des dimensions (dites à quoi elles correspondent)\n",
    "# 60 000 individus (images) de 28 x 28 pixel et en niveaux de gris 0 - 255"
   ]
  },
  {
   "cell_type": "code",
   "execution_count": 5,
   "metadata": {
    "id": "YNm4oGngrd16",
    "pycharm": {
     "name": "#%%\n"
    }
   },
   "outputs": [],
   "source": [
    "# Pour faciliter la création de batch on utiliser une classe appelé DataLoader\n",
    "# Pour les données d'entrainements on mélange les données à chaque époque pour avoir des batchs différents d'une époque à l'autre\n",
    "train_loader = torch.utils.data.DataLoader(train, batch_size=100, shuffle=True)\n",
    "test_loader = torch.utils.data.DataLoader(test, batch_size=500, shuffle=False)"
   ]
  },
  {
   "cell_type": "code",
   "execution_count": 6,
   "metadata": {
    "colab": {
     "base_uri": "https://localhost:8080/",
     "height": 1000
    },
    "id": "gAaMBWvWrd17",
    "outputId": "a98e809b-e4af-4f9a-e115-37fa8f28335c",
    "pycharm": {
     "name": "#%%\n"
    }
   },
   "outputs": [
    {
     "data": {
      "image/png": "[encoded data removed]",
      "text/plain": [
       "<Figure size 640x480 with 1 Axes>"
      ]
     },
     "metadata": {},
     "output_type": "display_data"
    },
    {
     "data": {
      "image/png": "[encoded data removed]",
      "text/plain": [
       "<Figure size 640x480 with 1 Axes>"
      ]
     },
     "metadata": {},
     "output_type": "display_data"
    },
    {
     "data": {
      "image/png": "[encoded data removed]",
      "text/plain": [
       "<Figure size 640x480 with 1 Axes>"
      ]
     },
     "metadata": {},
     "output_type": "display_data"
    },
    {
     "data": {
      "image/png": "[encoded data removed]",
      "text/plain": [
       "<Figure size 640x480 with 1 Axes>"
      ]
     },
     "metadata": {},
     "output_type": "display_data"
    },
    {
     "data": {
      "image/png": "[encoded data removed]",
      "text/plain": [
       "<Figure size 640x480 with 1 Axes>"
      ]
     },
     "metadata": {},
     "output_type": "display_data"
    },
    {
     "data": {
      "image/png": "[encoded data removed]",
      "text/plain": [
       "<Figure size 640x480 with 1 Axes>"
      ]
     },
     "metadata": {},
     "output_type": "display_data"
    }
   ],
   "source": [
    "import matplotlib.pyplot as plt\n",
    "\n",
    "# Cette cellule sert à afficher six images du jeux d'entrainenment\n",
    "fig = plt.figure()\n",
    "for i in range(6):\n",
    "    plt.subplot(2,3,i+1)\n",
    "    plt.tight_layout()\n",
    "    # Définissez les couleurs pour 0 (blanc) et 1 (noir)\n",
    "    colors = ['white', 'black']\n",
    "    # Affichez l'image avec imshow\n",
    "    plt.imshow(train.data[i], cmap=plt.matplotlib.colors.ListedColormap(colors))\n",
    "    # l'image sans axes\n",
    "    plt.axis('off')\n",
    "    # Affichez l'image\n",
    "    plt.show()"
   ]
  },
  {
   "cell_type": "code",
   "execution_count": 10,
   "metadata": {
    "id": "O8VHQMQZrd18",
    "pycharm": {
     "name": "#%%\n"
    }
   },
   "outputs": [],
   "source": [
    "import torch.nn as nn\n",
    "\n",
    "# Définition de la classe du modèle\n",
    "class NeuralNetwork(nn.Module):\n",
    "\n",
    "    def __init__(self):\n",
    "        super(NeuralNetwork, self).__init__()\n",
    "        #TODO initialiser les éléments nécessaire pour le modèle\n",
    "\n",
    "        self.conv1 = nn.Conv2d(in_channels=1, out_channels=32, kernel_size=3, padding=1)\n",
    "        self.pool = nn.MaxPool2d(kernel_size=2, stride=2)\n",
    "\n",
    "        self.conv2 = nn.Conv2d(in_channels=32, out_channels=64, kernel_size=3, padding=1)\n",
    "\n",
    "        self.couche1 = nn.Linear(64 * 7 * 7, 128)\n",
    "\n",
    "        self.sortie = nn.Linear(128, 10)\n",
    "\n",
    "        self.relu = nn.ReLU()\n",
    "        self.softmax = nn.Softmax(dim=1)\n",
    "\n",
    "    def forward(self, x):\n",
    "        # TODO appliquer le modèle sur x\n",
    "        y = self.pool(self.relu(self.conv1(x)))\n",
    "        y = self.pool(self.relu(self.conv2(y)))\n",
    "\n",
    "        y = torch.flatten(y, start_dim=1)\n",
    "\n",
    "        y = self.relu(self.couche1(y))\n",
    "        y = self.softmax(self.sortie(y))\n",
    "        return y"
   ]
  },
  {
   "cell_type": "code",
   "execution_count": 11,
   "metadata": {
    "id": "btmVE6fnrd19",
    "pycharm": {
     "name": "#%%\n"
    }
   },
   "outputs": [
    {
     "name": "stdout",
     "output_type": "stream",
     "text": [
      "Nom du paramètres :  conv1.weight    taille du tenseur :  torch.Size([32, 1, 3, 3])\n",
      "Nom du paramètres :  conv1.bias    taille du tenseur :  torch.Size([32])\n",
      "Nom du paramètres :  conv2.weight    taille du tenseur :  torch.Size([64, 32, 3, 3])\n",
      "Nom du paramètres :  conv2.bias    taille du tenseur :  torch.Size([64])\n",
      "Nom du paramètres :  couche1.weight    taille du tenseur :  torch.Size([128, 3136])\n",
      "Nom du paramètres :  couche1.bias    taille du tenseur :  torch.Size([128])\n",
      "Nom du paramètres :  sortie.weight    taille du tenseur :  torch.Size([10, 128])\n",
      "Nom du paramètres :  sortie.bias    taille du tenseur :  torch.Size([10])\n",
      "Le nombre total de paramètre à entrainer dans le modèle est de 421642\n"
     ]
    }
   ],
   "source": [
    "# Création d'une instance du modèle\n",
    "model = NeuralNetwork()\n",
    "\n",
    "# On affiche les paramètres du modèle\n",
    "for name, param in model.named_parameters():\n",
    "    if param.requires_grad:\n",
    "        print(\"Nom du paramètres : \",name, \"   taille du tenseur : \", param.data.size())\n",
    "pytorch_total_params = sum(p.numel() for p in model.parameters())\n",
    "print(f\"Le nombre total de paramètre à entrainer dans le modèle est de {pytorch_total_params}\")"
   ]
  },
  {
   "cell_type": "code",
   "execution_count": 12,
   "metadata": {
    "id": "hj_Ptewt5Ox_"
   },
   "outputs": [
    {
     "name": "stdout",
     "output_type": "stream",
     "text": [
      "Dimension de l'input :  torch.Size([100, 1, 28, 28])\n",
      "Dimension de l'output :  torch.Size([100, 10])\n"
     ]
    }
   ],
   "source": [
    "# appliquer le modèle sur un batch pour vérifier qu'il accepte l'input et vérifier l'output\n",
    "for data, _ in train_loader:\n",
    "  print(\"Dimension de l'input : \", data.size())\n",
    "  print(\"Dimension de l'output : \", model(data).size())\n",
    "  break"
   ]
  },
  {
   "cell_type": "code",
   "execution_count": 13,
   "metadata": {
    "id": "WtlD8K7Srd1-",
    "pycharm": {
     "name": "#%%\n"
    }
   },
   "outputs": [],
   "source": [
    "import torch.optim as optim\n",
    "\n",
    "# TODO Instanciation de la fonction de perte (entropie croisée)\n",
    "fonction_perte = nn.CrossEntropyLoss()\n",
    "\n",
    "# TODO Instanciation de l'optimiseur (par exemple, Adam)\n",
    "optimizer = optim.Adam(model.parameters())\n",
    "\n"
   ]
  },
  {
   "cell_type": "code",
   "execution_count": 14,
   "metadata": {
    "id": "VO_nMNhfrd1_",
    "pycharm": {
     "name": "#%%\n"
    }
   },
   "outputs": [
    {
     "name": "stdout",
     "output_type": "stream",
     "text": [
      "Total mean lost on train 1.6124434024095535\n",
      "Total mean lost on train 1.4872426402568817\n",
      "Total mean lost on train 1.4799763892094295\n",
      "Total mean lost on train 1.4760096716880797\n",
      "Total mean lost on train 1.4738426226377488\n",
      "Total mean lost on train 1.472378093202909\n",
      "Total mean lost on train 1.4714587744077046\n",
      "Total mean lost on train 1.4701743624607722\n",
      "Total mean lost on train 1.4695473704735438\n",
      "Total mean lost on train 1.4690795314311982\n",
      "Entraînement terminé.\n"
     ]
    }
   ],
   "source": [
    "# Boucle d'entraînement\n",
    "num_epochs = 10\n",
    "train_losses = [] # Pour chaque époque, on stocke la perte sur le jeu d'entrainement pour voir l'évolution de la perte au fil des époques\n",
    "test_losses = [] # Pour chaque époque, on stocke la perte sur le jeu de test pour comparer les performances du modèle entre le jeu d'apprentissage et celui de test\n",
    "\n",
    "for epoch in range(num_epochs):\n",
    "    total_loss = 0.0\n",
    "    model.train()\n",
    "\n",
    "    # DataLoader est un iterable, c'est à dire qu'on peut le parcourir, chaque itération retourne les données d'input et la target du batch\n",
    "    for data, target in train_loader:\n",
    "        # TODO entrainer le modèle\n",
    "        optimizer.zero_grad() \n",
    "        out = model(data)\n",
    "        loss = fonction_perte(out,target)\n",
    "        loss.backward()\n",
    "        optimizer.step()\n",
    "\n",
    "        # On stocke la perte de l'époque en cours pour le jeu d'entrainement\n",
    "        total_loss += loss.item()\n",
    "\n",
    "    # Calculer et stocker la perte moyenne pour cette époque => sert pour afficher la courbe d'apprentissage\n",
    "    average_loss = total_loss / len(train_loader)\n",
    "    train_losses.append(average_loss)\n",
    "    print(f\"Total mean lost on train {average_loss}\")\n",
    "\n",
    "    # Mettre le modèle en mode \"évaluation\", pour éviter qu'il effectue des opérations d'entrainement\n",
    "    # On calcule la perte sur le testset pour comparer les scores entre le trainset et le testset\n",
    "    model.eval()\n",
    "    test_loss = 0.0\n",
    "    with torch.no_grad(): # le modèle ne va pas calculer les gradient\n",
    "        for inputs, labels in test_loader:  # Boucler sur les batch du jeux de test\n",
    "            # TODO utiliser le modèle sur les données de test\n",
    "            outputs = model(inputs)\n",
    "            # On stocke la perte de l'époque en cours pour le jeu d'évaluation\n",
    "            test_loss += fonction_perte(outputs, labels).item()\n",
    "    test_losses.append(test_loss / len(test_loader))\n",
    "\n",
    "print('Entraînement terminé.')"
   ]
  },
  {
   "cell_type": "code",
   "execution_count": 13,
   "metadata": {
    "id": "9Yfz3zNxvJrx"
   },
   "outputs": [
    {
     "data": {
      "image/png": "[encoded data removed]",
      "text/plain": [
       "<Figure size 640x480 with 1 Axes>"
      ]
     },
     "metadata": {},
     "output_type": "display_data"
    }
   ],
   "source": [
    "# Tracez les courbes de perte\n",
    "plt.plot(np.arange(1, num_epochs +1), train_losses, label='Train Loss')\n",
    "plt.plot(np.arange(1, num_epochs + 1), test_losses, label='Test Loss')\n",
    "plt.xlabel('Epoch')\n",
    "plt.ylabel('Loss')\n",
    "plt.legend()\n",
    "plt.show()"
   ]
  },
  {
   "cell_type": "code",
   "execution_count": 14,
   "metadata": {
    "id": "myGz-858rd2C",
    "pycharm": {
     "name": "#%%\n"
    }
   },
   "outputs": [],
   "source": [
    "# TODO expliquer pourquoi on affiche les deux courbes de la perte moyenne de chaque époque\n",
    "# car chaque époques, on itere les données pas batch\n",
    "\n",
    "# TODO commenter les courbes ci-dessus ? Et expliquer pourquoi il y a grand écart à la première époque entre le testset et le trainset ?\n",
    "# la loss du test est calculée après avoir mis à jour les poids lors de la première époque\n",
    "\n",
    "# TODO que pensez vous de la proposition suivante : on devrait entrainer le modèle sur deux fois plus d'époque ?\n",
    "# inutile -> oervefiting car la courbe s'est déja stabilisée"
   ]
  },
  {
   "cell_type": "code",
   "execution_count": 28,
   "metadata": {
    "id": "c1gWKdX5rd2D",
    "pycharm": {
     "name": "#%%\n"
    }
   },
   "outputs": [
    {
     "name": "stdout",
     "output_type": "stream",
     "text": [
      "0.9891\n"
     ]
    }
   ],
   "source": [
    "# On va évaluer notre modèle à l'aide de métrique.\n",
    "from re import X\n",
    "from sklearn.metrics import accuracy_score, classification_report, confusion_matrix\n",
    "# On met le modèle en mode évaluation\n",
    "model.eval()\n",
    "\n",
    "\n",
    "# TODO calculer l'accuracy à l'aide de la fonction accuracy_score  de sklearn, stocker les prédictions sur le jeux d'évaluation dans une variable nommée predictions\n",
    "predictions_list = []\n",
    "targets_list = []\n",
    "\n",
    "# Mettre le modèle en mode évaluation\n",
    "model.eval()\n",
    "with torch.no_grad():\n",
    "    for images, labels in test_loader:\n",
    "        # images: (batch_size, 1, 28, 28), labels: (batch_size,)\n",
    "        images = images.to(torch.float32)\n",
    "        outputs = model(images)  # Supposons que outputs a la forme (batch_size, 10)\n",
    "        _, preds = torch.max(outputs, 1)  # On sélectionne la classe avec la probabilité la plus élevée\n",
    "        predictions_list.append(preds.cpu())\n",
    "        targets_list.append(labels.cpu())\n",
    "\n",
    "# Concaténer les prédictions et les cibles sur tous les batchs\n",
    "predictions = torch.cat(predictions_list)\n",
    "targets = torch.cat(targets_list)\n",
    "\n",
    "\n",
    "accuracy = accuracy_score(targets, predictions)\n",
    "print(accuracy)\n"
   ]
  },
  {
   "cell_type": "code",
   "execution_count": null,
   "metadata": {
    "id": "VAbHIpCHv-Ya"
   },
   "outputs": [
    {
     "name": "stdout",
     "output_type": "stream",
     "text": [
      "tensor([2, 3, 4, 5, 6, 2, 8, 9, 0, 1, 2, 3, 4, 5, 6, 7, 8, 9, 1, 0, 1, 2, 7, 5,\n",
      "        3, 4, 4, 0, 0, 6, 9, 6, 6, 5, 7, 2, 3, 4, 4, 9, 1, 4, 0, 7, 9, 5, 7, 2,\n",
      "        3, 1, 4, 4, 0, 9, 9, 6, 1, 8, 3, 3, 7, 3, 9, 8, 8, 4, 7, 7, 6, 2, 1, 9,\n",
      "        8, 7, 8, 8, 7, 2, 2, 3, 9, 3, 3, 5, 5, 0, 7, 9, 5, 6, 5, 1, 4, 1, 1, 2,\n",
      "        8, 2, 6, 1, 5, 0, 1, 2, 3, 4, 5, 6, 7, 8, 9, 0, 1, 2, 3, 4, 5, 6, 7, 8,\n",
      "        9, 0, 1, 2, 3, 4, 5, 6, 7, 8, 8, 0, 6, 0, 2, 2, 3, 7, 7, 4, 7, 1, 7, 1,\n",
      "        7, 1, 4, 0, 0, 1, 7, 5, 7, 1, 3, 3, 3, 1, 6, 9, 7, 1, 3, 0, 2, 6, 0, 8,\n",
      "        9, 7, 3, 5, 4, 8, 1, 5, 9, 0, 6, 2, 3, 8, 1, 4, 7, 5, 2, 0, 0, 1, 7, 8,\n",
      "        9, 6, 8, 8, 2, 3, 6, 1, 2, 9, 5, 2, 0, 1, 2, 3, 4, 5, 6, 7, 8, 9, 0, 1,\n",
      "        2, 3, 4, 5, 6, 7, 8, 9, 0, 1, 2, 3, 4, 6, 6, 7, 8, 9, 7, 4, 6, 1, 4, 0,\n",
      "        9, 9, 3, 7, 8, 4, 7, 5, 8, 5, 3, 2, 2, 0, 5, 8, 6, 0, 3, 8, 1, 0, 3, 0,\n",
      "        4, 7, 4, 9, 2, 9, 0, 7, 1, 7, 1, 6, 6, 5, 6, 2, 8, 7, 6, 4, 9, 9, 5, 3,\n",
      "        7, 4, 3, 0, 9, 6, 6, 1, 1, 3, 2, 1, 0, 0, 1, 2, 3, 4, 7, 8, 9, 0, 1, 2,\n",
      "        3, 4, 5, 6, 7, 8, 0, 1, 2, 3, 4, 7, 8, 9, 0, 8, 3, 9, 5, 5, 2, 6, 8, 4,\n",
      "        1, 7, 1, 2, 3, 5, 6, 9, 1, 1, 1, 2, 1, 2, 0, 7, 7, 5, 8, 2, 9, 8, 6, 7,\n",
      "        3, 4, 6, 8, 7, 0, 4, 2, 7, 7, 5, 4, 3, 4, 2, 8, 1, 5, 1, 2, 2, 3, 3, 5,\n",
      "        7, 0, 6, 8, 6, 3, 9, 9, 5, 2, 7, 7, 1, 0, 1, 7, 8, 9, 0, 1, 2, 3, 4, 5,\n",
      "        6, 7, 8, 0, 1, 2, 3, 4, 7, 8, 9, 7, 8, 6, 4, 1, 9, 3, 8, 4, 4, 7, 0, 1,\n",
      "        9, 2, 8, 7, 8, 2, 6, 0, 6, 5, 3, 3, 3, 9, 1, 4, 0, 6, 1, 0, 0, 6, 2, 1,\n",
      "        1, 7, 7, 8, 4, 6, 0, 7, 0, 3, 6, 8, 7, 1, 5, 2, 4, 9, 4, 3, 6, 4, 1, 7,\n",
      "        2, 6, 5, 0, 1, 2, 3, 4, 5, 6, 7, 8, 9, 0, 1, 2, 3, 4, 5, 6])\n"
     ]
    }
   ],
   "source": [
    "# TODO expliquer en une phrase ce que le chiffre de l'accuracy représente\n",
    "# Le taux de bonnes prédictions"
   ]
  },
  {
   "cell_type": "code",
   "execution_count": 27,
   "metadata": {
    "id": "Zydsoe3-rd2E",
    "pycharm": {
     "name": "#%%\n"
    }
   },
   "outputs": [
    {
     "name": "stdout",
     "output_type": "stream",
     "text": [
      "              precision    recall  f1-score   support\n",
      "\n",
      "           0       0.99      0.99      0.99       980\n",
      "           1       1.00      1.00      1.00      1135\n",
      "           2       0.97      1.00      0.99      1032\n",
      "           3       0.99      0.99      0.99      1010\n",
      "           4       1.00      0.98      0.99       982\n",
      "           5       0.99      0.99      0.99       892\n",
      "           6       0.99      0.99      0.99       958\n",
      "           7       0.99      0.99      0.99      1028\n",
      "           8       1.00      0.97      0.99       974\n",
      "           9       0.97      0.99      0.98      1009\n",
      "\n",
      "    accuracy                           0.99     10000\n",
      "   macro avg       0.99      0.99      0.99     10000\n",
      "weighted avg       0.99      0.99      0.99     10000\n",
      "\n"
     ]
    },
    {
     "data": {
      "image/png": "[encoded data removed]",
      "text/plain": [
       "<Figure size 800x600 with 1 Axes>"
      ]
     },
     "metadata": {},
     "output_type": "display_data"
    }
   ],
   "source": [
    "# On calcule des métriques et on affiche la matrice de confusion\n",
    "report = classification_report(targets, predictions, target_names=[\"0\",\"1\",\"2\",\"3\",\"4\",\"5\", \"6\",\"7\", \"8\", \"9\"])\n",
    "print(report)\n",
    "\n",
    "# Confusion matrice\n",
    "confusion = confusion_matrix(targets, predictions)\n",
    "\n",
    "import seaborn as sns\n",
    "import matplotlib.pyplot as plt\n",
    "# Créez une figure\n",
    "plt.figure(figsize=(8, 6))\n",
    "\n",
    "# Utilisez seaborn pour afficher la matrice de confusion avec des couleurs\n",
    "sns.heatmap(confusion, annot=True, fmt=\"d\", cmap=\"Blues\", cbar=False)\n",
    "\n",
    "# Ajoutez des labels aux axes\n",
    "plt.xlabel(\"Classe Prédite\")\n",
    "plt.ylabel(\"Classe Réelle\")\n",
    "plt.title(\"Matrice de Confusion\")\n",
    "\n",
    "# Affichez la figure\n",
    "plt.show()"
   ]
  },
  {
   "cell_type": "code",
   "execution_count": null,
   "metadata": {
    "id": "6yw7AzK3tuXd"
   },
   "outputs": [],
   "source": [
    "# TODO commenter le report\n",
    "# le modele est assez précis avec une accuracy de 99%\n",
    "# TODO Quel chiffre le modèle confond le plus souhaite avec quel autre chiffre ?\n",
    "# il confnd les 7 pouvant ressembler des 2 et les 4 puvant ressembler à des 9\n",
    "# TODO Comment peut-on calculer la précision du modèle à partir de ce graphique ?\n",
    "# pour avoir l'accuracy sur ce modèle, il faut la somme des True Positifs divisées par les nombre d'individus (somme de toutes les cases)"
   ]
  },
  {
   "cell_type": "code",
   "execution_count": 31,
   "metadata": {
    "id": "wUEXDjgwrd2E",
    "pycharm": {
     "name": "#%%\n"
    }
   },
   "outputs": [
    {
     "ename": "ModuleNotFoundError",
     "evalue": "No module named 'google.colab'",
     "output_type": "error",
     "traceback": [
      "\u001b[0;31m---------------------------------------------------------------------------\u001b[0m",
      "\u001b[0;31mModuleNotFoundError\u001b[0m                       Traceback (most recent call last)",
      "Cell \u001b[0;32mIn[31], line 2\u001b[0m\n\u001b[1;32m      1\u001b[0m \u001b[38;5;66;03m# on charge les nouvelles données\u001b[39;00m\n\u001b[0;32m----> 2\u001b[0m \u001b[38;5;28;01mfrom\u001b[39;00m\u001b[38;5;250m \u001b[39m\u001b[38;5;21;01mgoogle\u001b[39;00m\u001b[38;5;21;01m.\u001b[39;00m\u001b[38;5;21;01mcolab\u001b[39;00m\u001b[38;5;250m \u001b[39m\u001b[38;5;28;01mimport\u001b[39;00m files\n\u001b[1;32m      3\u001b[0m uploaded \u001b[38;5;241m=\u001b[39m files\u001b[38;5;241m.\u001b[39mupload()\n\u001b[1;32m      5\u001b[0m \u001b[38;5;66;03m# Si vous travaillez en local vous pouvez charger le fichier avec  nouveaux_chiffres_tenseur = torch.load(file_path) auquel inutile d'appliquer la cellule ci dessous\u001b[39;00m\n",
      "\u001b[0;31mModuleNotFoundError\u001b[0m: No module named 'google.colab'"
     ]
    }
   ],
   "source": [
    "# on charge les nouvelles données\n",
    "from google.colab import files\n",
    "uploaded = files.upload()\n",
    "\n",
    "# Si vous travaillez en local vous pouvez charger le fichier avec  nouveaux_chiffres_tenseur = torch.load(file_path) auquel inutile d'appliquer la cellule ci dessous"
   ]
  },
  {
   "cell_type": "code",
   "execution_count": null,
   "metadata": {
    "id": "TjlSGUVOyzB1"
   },
   "outputs": [],
   "source": [
    "# Accédez au contenu du fichier\n",
    "for file_name, data in uploaded.items():\n",
    "    with open(file_name, 'wb') as f:\n",
    "        f.write(data)\n",
    "\n",
    "# Chargez le tenseur à partir du fichier\n",
    "nouveaux_chiffres_tenseur = torch.load(file_name)\n"
   ]
  },
  {
   "cell_type": "code",
   "execution_count": null,
   "metadata": {
    "id": "80uprCA-y1wT"
   },
   "outputs": [],
   "source": [
    "print(f\"taille du tenseur des nouvelles données : {nouveaux_chiffres_tenseur.size()}\")"
   ]
  },
  {
   "cell_type": "code",
   "execution_count": null,
   "metadata": {
    "id": "XIw5Mr1qrd2F",
    "pycharm": {
     "name": "#%%\n"
    }
   },
   "outputs": [],
   "source": [
    "model.eval()\n",
    "# On utilise le modèle pour prédire la classe des nouvelles données\n",
    "with torch.no_grad(): # le modèle ne va pas calculer les gradient\n",
    "    y_pred = model(nouveaux_chiffres_tenseur)"
   ]
  },
  {
   "cell_type": "code",
   "execution_count": null,
   "metadata": {
    "id": "1jaMSWLurd2F",
    "pycharm": {
     "name": "#%%\n"
    }
   },
   "outputs": [],
   "source": [
    "# Afficher les tensors et leur prédiction\n",
    "for prediction, chiffre in zip(y_pred, nouveaux_chiffres_tenseur):\n",
    "    plt.figure()\n",
    "    # Définissez les couleurs pour 0 (blanc) et 1 (noir)\n",
    "    colors = ['white', 'black']\n",
    "\n",
    "    # Affichez l'image avec imshow\n",
    "    plt.imshow(chiffre, cmap=plt.matplotlib.colors.ListedColormap(colors))\n",
    "    plt.axis('off')\n",
    "    print(f'La prédiction de limage ci-dessous est {torch.argmax(prediction)}')\n",
    "    plt.show()\n"
   ]
  },
  {
   "cell_type": "code",
   "execution_count": null,
   "metadata": {
    "id": "qG7p9vpS4Snj"
   },
   "outputs": [],
   "source": [
    "# Les deux dernières images sont des images de validation issu du dataset initial, leur prédiction devrait être juste.\n",
    "# TODO pourquoi le modèle se trompe sur les autres chiffres ?\n",
    "# surement car les dimensions sont differentes"
   ]
  }
 ],
 "metadata": {
  "colab": {
   "provenance": []
  },
  "kernelspec": {
   "display_name": "venv",
   "language": "python",
   "name": "python3"
  },
  "language_info": {
   "codemirror_mode": {
    "name": "ipython",
    "version": 3
   },
   "file_extension": ".py",
   "mimetype": "text/x-python",
   "name": "python",
   "nbconvert_exporter": "python",
   "pygments_lexer": "ipython3",
   "version": "3.10.12"
  }
 },
 "nbformat": 4,
 "nbformat_minor": 0
}
